{
 "cells": [
  {
   "cell_type": "markdown",
   "metadata": {},
   "source": [
    "Levantamos los contenedores:"
   ]
  },
  {
   "cell_type": "code",
   "execution_count": null,
   "metadata": {},
   "outputs": [],
   "source": [
    "!docker-compose up -d --build"
   ]
  },
  {
   "cell_type": "code",
   "execution_count": null,
   "metadata": {},
   "outputs": [],
   "source": [
    "!python -m venv venv\n",
    "!source venv/bin/activate\n",
    "!pip install -r requirements.txt"
   ]
  },
  {
   "cell_type": "markdown",
   "metadata": {},
   "source": [
    "Es necesario activar este environment"
   ]
  },
  {
   "cell_type": "markdown",
   "metadata": {},
   "source": [
    "Conectamos la API a Mongo\n"
   ]
  },
  {
   "cell_type": "code",
   "execution_count": null,
   "metadata": {},
   "outputs": [],
   "source": [
    "!python api_mongo_transfer.py"
   ]
  },
  {
   "cell_type": "markdown",
   "metadata": {},
   "source": [
    "Regresa el nombre de top 10 directores con mas peliculas:"
   ]
  },
  {
   "cell_type": "code",
   "execution_count": null,
   "metadata": {},
   "outputs": [],
   "source": [
    "from pymongo import MongoClient\n",
    "\n",
    "# Conectar a tu instancia de MongoDB en Docker\n",
    "client = MongoClient('mongodb://localhost:27017/')\n",
    "\n",
    "# Seleccionar la base de datos y la colección\n",
    "db = client['moviesdb']\n",
    "credits_collection = db['credits']\n",
    "\n",
    "# Definir la consulta\n",
    "pipeline = [\n",
    "    {\"$unwind\": \"$crew\"},\n",
    "    {\"$match\": {\"crew.job\": \"Director\"}},\n",
    "    {\"$group\": {\"_id\": \"$crew.name\", \"count\": {\"$sum\": 1}}},\n",
    "    {\"$sort\": {\"count\": -1}},\n",
    "    {\"$limit\": 10}\n",
    "]\n",
    "\n",
    "# Ejecutar la consulta\n",
    "result = list(credits_collection.aggregate(pipeline))\n",
    "\n",
    "# Mostrar el resultado\n",
    "for director in result:\n",
    "    print(f\"{director['_id']}, {director['count']}\")\n",
    "\n"
   ]
  },
  {
   "cell_type": "markdown",
   "metadata": {},
   "source": [
    "Encontrar el título y año de las películas del género \"Comedy\" usando la coleccion movies (movies.json):\n"
   ]
  },
  {
   "cell_type": "code",
   "execution_count": null,
   "metadata": {},
   "outputs": [],
   "source": [
    "db = client['moviesdb']\n",
    "movies_collection = db['movies']\n",
    "\n",
    "# Definir la consulta\n",
    "pipeline = [\n",
    "    {\"$sort\": {\"budget\": -1}},\n",
    "    {\"$group\": {\"_id\": {\"$year\": \"$release_date\"}, \"title\": {\"$first\": \"$title\"}}},\n",
    "    {\"$sort\": {\"_id\": -1}}\n",
    "    \n",
    "]\n",
    "\n",
    "# Ejecutar la consulta\n",
    "result = list(movies_collection.aggregate(pipeline))\n",
    "\n",
    "# Mostrar el resultado\n",
    "for movie in result:\n",
    "    print(f\"{movie['_id']}, {movie['title']}\")\n",
    "\n"
   ]
  },
  {
   "cell_type": "markdown",
   "metadata": {},
   "source": [
    "Encontrar el título y año de las películas del género \"Comedy\""
   ]
  },
  {
   "cell_type": "code",
   "execution_count": null,
   "metadata": {},
   "outputs": [],
   "source": [
    "db = client['moviesdb']\n",
    "movies_collection = db['movies']\n",
    "\n",
    "# Definir la consulta\n",
    "query = {\"genres\": {\"$elemMatch\": {\"name\": \"Comedy\"}}}\n",
    "projection = {\"title\": 1, \"release_date\": 1}\n",
    "\n",
    "# Ejecutar la consulta\n",
    "result = list(movies_collection.find(query, projection))\n",
    "\n",
    "# Mostrar el resultado\n",
    "for movie in result:\n",
    "    print(f\"{movie['title']}, {movie['release_date'].year}\")\n",
    "\n",
    "# Cerrar la conexión\n",
    "client.close()"
   ]
  },
  {
   "cell_type": "markdown",
   "metadata": {},
   "source": [
    "Hacemos el procesamiento de la base de datos en mongo y la cargamos a Cassandra y a Neo4j"
   ]
  },
  {
   "cell_type": "code",
   "execution_count": null,
   "metadata": {},
   "outputs": [],
   "source": [
    "!python mongo_cassandra_transfer.py"
   ]
  },
  {
   "cell_type": "markdown",
   "metadata": {},
   "source": [
    "Consulta para saber información acerca de las películas que se estrenaron en el año 2019"
   ]
  },
  {
   "cell_type": "code",
   "execution_count": null,
   "metadata": {},
   "outputs": [],
   "source": [
    "from cassandra.cluster import Cluster\n",
    "import pandas as pd\n",
    "\n",
    "\n",
    "# Conectar a tu instancia de Cassandra en Docker\n",
    "cluster = Cluster(['127.0.0.1'])\n",
    "session = cluster.connect()\n",
    "\n",
    "# Utilizar tu keyspace\n",
    "session.set_keyspace('mov')\n",
    "\n",
    "# Ejecutar la primera consulta\n",
    "query1 = \"SELECT title, popularity, budget, revenue FROM movies WHERE release_date >= '2019-01-01' AND release_date <= '2019-12-31' ALLOW FILTERING;\"\n",
    "result1 = session.execute(query1)\n",
    "df1 = pd.DataFrame(list(result1), columns=result1.column_names)\n",
    "df1\n",
    "df1 = df1.sort_values(by=['popularity'], ascending=False)\n",
    "df1.reset_index(drop=True, inplace=True)\n",
    "df1[['title', 'popularity']]\n"
   ]
  },
  {
   "cell_type": "markdown",
   "metadata": {},
   "source": [
    "Consulta para saber los géneros de las películas que se estrenaron en 1992"
   ]
  },
  {
   "cell_type": "code",
   "execution_count": null,
   "metadata": {},
   "outputs": [],
   "source": [
    "# Conectar a tu instancia de Cassandra en Docker\n",
    "cluster = Cluster(['127.0.0.1'])\n",
    "session = cluster.connect()\n",
    "\n",
    "# Utilizar tu keyspace\n",
    "session.set_keyspace('mov')\n",
    "\n",
    "# Ejecutar la primera consulta\n",
    "query2 = \"SELECT title, genres FROM movies WHERE release_date >= '1992-01-01' AND release_date <= '1992-12-31' ALLOW FILTERING;\"\n",
    "result2 = session.execute(query2)\n",
    "\n",
    "print(result2)"
   ]
  },
  {
   "cell_type": "markdown",
   "metadata": {},
   "source": [
    "Consulta para saber cuántas personas participaron en la producción de Goodfellas\n"
   ]
  },
  {
   "cell_type": "code",
   "execution_count": null,
   "metadata": {},
   "outputs": [],
   "source": [
    "query3 = \"SELECT movie_id, COUNT(*) as num_personas_cast FROM movie_cast WHERE movie_id = 769 ALLOW FILTERING;\"\n",
    "result3 = session.execute(query3)\n",
    "print(type(row))\n",
    "for row in result3:\n",
    "    print(row.num_personas_cast)\n"
   ]
  },
  {
   "cell_type": "code",
   "execution_count": null,
   "metadata": {},
   "outputs": [],
   "source": [
    "!python mongo_neo4j_transfer.py"
   ]
  },
  {
   "cell_type": "code",
   "execution_count": null,
   "metadata": {},
   "outputs": [],
   "source": [
    "from neo4j import GraphDatabase\n",
    "import pandas as pd\n",
    "\n",
    "# Conexión a la base de datos Neo4j\n",
    "uri = \"bolt://localhost:7687\"\n",
    "username = \"neo4j\"\n",
    "password = \"neoneo4j\"\n",
    "\n",
    "driver = GraphDatabase.driver(uri, auth=(username, password))\n"
   ]
  },
  {
   "cell_type": "markdown",
   "metadata": {},
   "source": [
    "Consulta 1: Conocer la cantidad de películas por género\n"
   ]
  },
  {
   "cell_type": "code",
   "execution_count": null,
   "metadata": {},
   "outputs": [],
   "source": [
    "query_1 = \"\"\"\n",
    "MATCH (g:Genre)<-[:IS_GENRE_OF]-(m:Movie)\n",
    "RETURN g.name, COUNT(m) as moviesCount\n",
    "ORDER BY moviesCount DESC\n",
    "\"\"\"\n"
   ]
  },
  {
   "cell_type": "markdown",
   "metadata": {},
   "source": [
    "Consulta 2: Encontrar películas con conexiones a múltiples géneros\n"
   ]
  },
  {
   "cell_type": "code",
   "execution_count": null,
   "metadata": {},
   "outputs": [],
   "source": [
    "query_2 = \"\"\"\n",
    "MATCH (m:Movie)-[:IS_GENRE_OF]->(g:Genre)\n",
    "WITH m, COUNT(g) as genreCount\n",
    "WHERE genreCount > 1\n",
    "RETURN m.title, genreCount\n",
    "\"\"\"\n"
   ]
  },
  {
   "cell_type": "markdown",
   "metadata": {},
   "source": [
    "Consulta 3: Encontrar la película más popular de un género en particular\n"
   ]
  },
  {
   "cell_type": "code",
   "execution_count": null,
   "metadata": {},
   "outputs": [],
   "source": [
    "query_3 = \"\"\"\n",
    "MATCH (g:Genre {name: 'Drama'})<-[:IS_GENRE_OF]-(m:Movie)\n",
    "WITH m, g ORDER BY m.popularity DESC LIMIT 1\n",
    "RETURN m.title, m.popularity, g.name as Genre\n",
    "\"\"\"\n"
   ]
  },
  {
   "cell_type": "code",
   "execution_count": 71,
   "metadata": {},
   "outputs": [
    {
     "name": "stderr",
     "output_type": "stream",
     "text": [
      "/var/folders/hx/2yrhw82s29g3zhsqchyrqcy80000gn/T/ipykernel_49762/630939322.py:1: DeprecationWarning: Using a driver after it has been closed is deprecated. Future versions of the driver will raise an error.\n",
      "  with driver.session() as session:\n"
     ]
    },
    {
     "data": {
      "text/html": [
       "<div>\n",
       "<style scoped>\n",
       "    .dataframe tbody tr th:only-of-type {\n",
       "        vertical-align: middle;\n",
       "    }\n",
       "\n",
       "    .dataframe tbody tr th {\n",
       "        vertical-align: top;\n",
       "    }\n",
       "\n",
       "    .dataframe thead th {\n",
       "        text-align: right;\n",
       "    }\n",
       "</style>\n",
       "<table border=\"1\" class=\"dataframe\">\n",
       "  <thead>\n",
       "    <tr style=\"text-align: right;\">\n",
       "      <th></th>\n",
       "      <th>g.name</th>\n",
       "      <th>moviesCount</th>\n",
       "    </tr>\n",
       "  </thead>\n",
       "  <tbody>\n",
       "    <tr>\n",
       "      <th>0</th>\n",
       "      <td>Action</td>\n",
       "      <td>236</td>\n",
       "    </tr>\n",
       "    <tr>\n",
       "      <th>1</th>\n",
       "      <td>Adventure</td>\n",
       "      <td>207</td>\n",
       "    </tr>\n",
       "    <tr>\n",
       "      <th>2</th>\n",
       "      <td>Drama</td>\n",
       "      <td>187</td>\n",
       "    </tr>\n",
       "    <tr>\n",
       "      <th>3</th>\n",
       "      <td>Comedy</td>\n",
       "      <td>167</td>\n",
       "    </tr>\n",
       "    <tr>\n",
       "      <th>4</th>\n",
       "      <td>Thriller</td>\n",
       "      <td>153</td>\n",
       "    </tr>\n",
       "    <tr>\n",
       "      <th>5</th>\n",
       "      <td>Fantasy</td>\n",
       "      <td>135</td>\n",
       "    </tr>\n",
       "    <tr>\n",
       "      <th>6</th>\n",
       "      <td>Family</td>\n",
       "      <td>131</td>\n",
       "    </tr>\n",
       "    <tr>\n",
       "      <th>7</th>\n",
       "      <td>Animation</td>\n",
       "      <td>123</td>\n",
       "    </tr>\n",
       "    <tr>\n",
       "      <th>8</th>\n",
       "      <td>Science Fiction</td>\n",
       "      <td>121</td>\n",
       "    </tr>\n",
       "    <tr>\n",
       "      <th>9</th>\n",
       "      <td>Romance</td>\n",
       "      <td>78</td>\n",
       "    </tr>\n",
       "    <tr>\n",
       "      <th>10</th>\n",
       "      <td>Crime</td>\n",
       "      <td>77</td>\n",
       "    </tr>\n",
       "    <tr>\n",
       "      <th>11</th>\n",
       "      <td>Horror</td>\n",
       "      <td>52</td>\n",
       "    </tr>\n",
       "    <tr>\n",
       "      <th>12</th>\n",
       "      <td>Mystery</td>\n",
       "      <td>42</td>\n",
       "    </tr>\n",
       "    <tr>\n",
       "      <th>13</th>\n",
       "      <td>War</td>\n",
       "      <td>27</td>\n",
       "    </tr>\n",
       "    <tr>\n",
       "      <th>14</th>\n",
       "      <td>History</td>\n",
       "      <td>22</td>\n",
       "    </tr>\n",
       "    <tr>\n",
       "      <th>15</th>\n",
       "      <td>Western</td>\n",
       "      <td>6</td>\n",
       "    </tr>\n",
       "    <tr>\n",
       "      <th>16</th>\n",
       "      <td>TV Movie</td>\n",
       "      <td>5</td>\n",
       "    </tr>\n",
       "    <tr>\n",
       "      <th>17</th>\n",
       "      <td>Music</td>\n",
       "      <td>4</td>\n",
       "    </tr>\n",
       "  </tbody>\n",
       "</table>\n",
       "</div>"
      ],
      "text/plain": [
       "             g.name  moviesCount\n",
       "0            Action          236\n",
       "1         Adventure          207\n",
       "2             Drama          187\n",
       "3            Comedy          167\n",
       "4          Thriller          153\n",
       "5           Fantasy          135\n",
       "6            Family          131\n",
       "7         Animation          123\n",
       "8   Science Fiction          121\n",
       "9           Romance           78\n",
       "10            Crime           77\n",
       "11           Horror           52\n",
       "12          Mystery           42\n",
       "13              War           27\n",
       "14          History           22\n",
       "15          Western            6\n",
       "16         TV Movie            5\n",
       "17            Music            4"
      ]
     },
     "metadata": {},
     "output_type": "display_data"
    },
    {
     "data": {
      "text/html": [
       "<div>\n",
       "<style scoped>\n",
       "    .dataframe tbody tr th:only-of-type {\n",
       "        vertical-align: middle;\n",
       "    }\n",
       "\n",
       "    .dataframe tbody tr th {\n",
       "        vertical-align: top;\n",
       "    }\n",
       "\n",
       "    .dataframe thead th {\n",
       "        text-align: right;\n",
       "    }\n",
       "</style>\n",
       "<table border=\"1\" class=\"dataframe\">\n",
       "  <thead>\n",
       "    <tr style=\"text-align: right;\">\n",
       "      <th></th>\n",
       "      <th>m.title</th>\n",
       "      <th>genreCount</th>\n",
       "    </tr>\n",
       "  </thead>\n",
       "  <tbody>\n",
       "    <tr>\n",
       "      <th>0</th>\n",
       "      <td>Fargo</td>\n",
       "      <td>3</td>\n",
       "    </tr>\n",
       "    <tr>\n",
       "      <th>1</th>\n",
       "      <td>The Swordsman</td>\n",
       "      <td>3</td>\n",
       "    </tr>\n",
       "    <tr>\n",
       "      <th>2</th>\n",
       "      <td>Joker</td>\n",
       "      <td>3</td>\n",
       "    </tr>\n",
       "    <tr>\n",
       "      <th>3</th>\n",
       "      <td>The Lion King</td>\n",
       "      <td>4</td>\n",
       "    </tr>\n",
       "    <tr>\n",
       "      <th>4</th>\n",
       "      <td>Ford v Ferrari</td>\n",
       "      <td>3</td>\n",
       "    </tr>\n",
       "    <tr>\n",
       "      <th>...</th>\n",
       "      <td>...</td>\n",
       "      <td>...</td>\n",
       "    </tr>\n",
       "    <tr>\n",
       "      <th>551</th>\n",
       "      <td>Home Alone 3</td>\n",
       "      <td>2</td>\n",
       "    </tr>\n",
       "    <tr>\n",
       "      <th>552</th>\n",
       "      <td>The Parent Trap</td>\n",
       "      <td>2</td>\n",
       "    </tr>\n",
       "    <tr>\n",
       "      <th>553</th>\n",
       "      <td>Bride of Chucky</td>\n",
       "      <td>2</td>\n",
       "    </tr>\n",
       "    <tr>\n",
       "      <th>554</th>\n",
       "      <td>Scream 2</td>\n",
       "      <td>2</td>\n",
       "    </tr>\n",
       "    <tr>\n",
       "      <th>555</th>\n",
       "      <td>Scream 3</td>\n",
       "      <td>2</td>\n",
       "    </tr>\n",
       "  </tbody>\n",
       "</table>\n",
       "<p>556 rows × 2 columns</p>\n",
       "</div>"
      ],
      "text/plain": [
       "             m.title  genreCount\n",
       "0              Fargo           3\n",
       "1      The Swordsman           3\n",
       "2              Joker           3\n",
       "3      The Lion King           4\n",
       "4     Ford v Ferrari           3\n",
       "..               ...         ...\n",
       "551     Home Alone 3           2\n",
       "552  The Parent Trap           2\n",
       "553  Bride of Chucky           2\n",
       "554         Scream 2           2\n",
       "555         Scream 3           2\n",
       "\n",
       "[556 rows x 2 columns]"
      ]
     },
     "metadata": {},
     "output_type": "display_data"
    },
    {
     "data": {
      "text/html": [
       "<div>\n",
       "<style scoped>\n",
       "    .dataframe tbody tr th:only-of-type {\n",
       "        vertical-align: middle;\n",
       "    }\n",
       "\n",
       "    .dataframe tbody tr th {\n",
       "        vertical-align: top;\n",
       "    }\n",
       "\n",
       "    .dataframe thead th {\n",
       "        text-align: right;\n",
       "    }\n",
       "</style>\n",
       "<table border=\"1\" class=\"dataframe\">\n",
       "  <thead>\n",
       "    <tr style=\"text-align: right;\">\n",
       "      <th></th>\n",
       "      <th>m.title</th>\n",
       "      <th>m.popularity</th>\n",
       "      <th>Genre</th>\n",
       "    </tr>\n",
       "  </thead>\n",
       "  <tbody>\n",
       "    <tr>\n",
       "      <th>0</th>\n",
       "      <td>Fargo</td>\n",
       "      <td>None</td>\n",
       "      <td>Drama</td>\n",
       "    </tr>\n",
       "  </tbody>\n",
       "</table>\n",
       "</div>"
      ],
      "text/plain": [
       "  m.title m.popularity  Genre\n",
       "0   Fargo         None  Drama"
      ]
     },
     "metadata": {},
     "output_type": "display_data"
    }
   ],
   "source": [
    "with driver.session() as session:\n",
    "    print(\"Query 1\")\n",
    "    result_1 = session.run(query_1)\n",
    "    df_1 = pd.DataFrame(result_1.data(), columns=result_1.keys())\n",
    "    display(df_1)\n",
    "    \n",
    "    print(\"Query 2\")\n",
    "    result_2 = session.run(query_2)\n",
    "    df_2 = pd.DataFrame(result_2.data(), columns=result_2.keys())\n",
    "    display(df_2)\n",
    "\n",
    "    print(\"Query 3\")\n",
    "    result_3 = session.run(query_3)\n",
    "    df_3 = pd.DataFrame(result_3.data(), columns=result_3.keys())\n",
    "    display(df_3)\n",
    "\n",
    "# Cerrar la conexión\n",
    "driver.close()"
   ]
  }
 ],
 "metadata": {
  "kernelspec": {
   "display_name": ".venv",
   "language": "python",
   "name": "python3"
  },
  "language_info": {
   "codemirror_mode": {
    "name": "ipython",
    "version": 3
   },
   "file_extension": ".py",
   "mimetype": "text/x-python",
   "name": "python",
   "nbconvert_exporter": "python",
   "pygments_lexer": "ipython3",
   "version": "3.10.7"
  }
 },
 "nbformat": 4,
 "nbformat_minor": 2
}
