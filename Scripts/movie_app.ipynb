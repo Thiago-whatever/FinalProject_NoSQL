{
 "cells": [
  {
   "cell_type": "markdown",
   "metadata": {},
   "source": [
    "Levantamos los contenedores:"
   ]
  },
  {
   "cell_type": "code",
   "execution_count": null,
   "metadata": {},
   "outputs": [],
   "source": [
    "!docker-compose up -d --build"
   ]
  },
  {
   "cell_type": "code",
   "execution_count": null,
   "metadata": {},
   "outputs": [],
   "source": [
    "!python -m venv venv\n",
    "!source venv/bin/activate\n",
    "!pip install -r requirements.txt"
   ]
  },
  {
   "cell_type": "markdown",
   "metadata": {},
   "source": [
    "Es necesario activar este environment"
   ]
  },
  {
   "cell_type": "markdown",
   "metadata": {},
   "source": [
    "Conectamos la API a Mongo\n"
   ]
  },
  {
   "cell_type": "code",
   "execution_count": null,
   "metadata": {},
   "outputs": [],
   "source": [
    "!python api_mongo_transfer.py"
   ]
  },
  {
   "cell_type": "markdown",
   "metadata": {},
   "source": [
    "Regresa el nombre de top 10 directores con mas peliculas:"
   ]
  },
  {
   "cell_type": "code",
   "execution_count": null,
   "metadata": {},
   "outputs": [],
   "source": [
    "from pymongo import MongoClient\n",
    "\n",
    "# Conectar a tu instancia de MongoDB en Docker\n",
    "client = MongoClient('mongodb://localhost:27017/')\n",
    "\n",
    "# Seleccionar la base de datos y la colección\n",
    "db = client['moviesdb']\n",
    "credits_collection = db['credits']\n",
    "\n",
    "# Definir la consulta\n",
    "pipeline = [\n",
    "    {\"$unwind\": \"$crew\"},\n",
    "    {\"$match\": {\"crew.job\": \"Director\"}},\n",
    "    {\"$group\": {\"_id\": \"$crew.name\", \"count\": {\"$sum\": 1}}},\n",
    "    {\"$sort\": {\"count\": -1}},\n",
    "    {\"$limit\": 10}\n",
    "]\n",
    "\n",
    "# Ejecutar la consulta\n",
    "result = list(credits_collection.aggregate(pipeline))\n",
    "\n",
    "# Mostrar el resultado\n",
    "for director in result:\n",
    "    print(f\"{director['_id']}, {director['count']}\")\n",
    "\n"
   ]
  },
  {
   "cell_type": "markdown",
   "metadata": {},
   "source": [
    "Encontrar el título y año de las películas del género \"Comedy\" usando la coleccion movies (movies.json):\n"
   ]
  },
  {
   "cell_type": "code",
   "execution_count": null,
   "metadata": {},
   "outputs": [],
   "source": [
    "db = client['moviesdb']\n",
    "movies_collection = db['movies']\n",
    "\n",
    "# Definir la consulta\n",
    "pipeline = [\n",
    "    {\"$sort\": {\"budget\": -1}},\n",
    "    {\"$group\": {\"_id\": {\"$year\": \"$release_date\"}, \"title\": {\"$first\": \"$title\"}}},\n",
    "    {\"$sort\": {\"_id\": -1}}\n",
    "    \n",
    "]\n",
    "\n",
    "# Ejecutar la consulta\n",
    "result = list(movies_collection.aggregate(pipeline))\n",
    "\n",
    "# Mostrar el resultado\n",
    "for movie in result:\n",
    "    print(f\"{movie['_id']}, {movie['title']}\")\n",
    "\n"
   ]
  },
  {
   "cell_type": "markdown",
   "metadata": {},
   "source": [
    "Encontrar el título y año de las películas del género \"Comedy\""
   ]
  },
  {
   "cell_type": "code",
   "execution_count": null,
   "metadata": {},
   "outputs": [],
   "source": [
    "db = client['moviesdb']\n",
    "movies_collection = db['movies']\n",
    "\n",
    "# Definir la consulta\n",
    "query = {\"genres\": {\"$elemMatch\": {\"name\": \"Comedy\"}}}\n",
    "projection = {\"title\": 1, \"release_date\": 1}\n",
    "\n",
    "# Ejecutar la consulta\n",
    "result = list(movies_collection.find(query, projection))\n",
    "\n",
    "# Mostrar el resultado\n",
    "for movie in result:\n",
    "    print(f\"{movie['title']}, {movie['release_date'].year}\")\n",
    "\n",
    "# Cerrar la conexión\n",
    "client.close()"
   ]
  },
  {
   "cell_type": "markdown",
   "metadata": {},
   "source": [
    "Hacemos el procesamiento de la base de datos en mongo y la cargamos a Cassandra y a Neo4j"
   ]
  },
  {
   "cell_type": "code",
   "execution_count": null,
   "metadata": {},
   "outputs": [],
   "source": [
    "!python mongo_cassandra_transfer.py"
   ]
  },
  {
   "cell_type": "markdown",
   "metadata": {},
   "source": [
    "Consulta para saber información acerca de las películas que se estrenaron en el año 2019"
   ]
  },
  {
   "cell_type": "code",
   "execution_count": null,
   "metadata": {},
   "outputs": [],
   "source": [
    "from cassandra.cluster import Cluster\n",
    "import pandas as pd\n",
    "\n",
    "\n",
    "# Conectar a tu instancia de Cassandra en Docker\n",
    "cluster = Cluster(['127.0.0.1'])\n",
    "session = cluster.connect()\n",
    "\n",
    "# Utilizar tu keyspace\n",
    "session.set_keyspace('mov')\n",
    "\n",
    "# Ejecutar la primera consulta\n",
    "query1 = \"SELECT title, popularity, budget, revenue FROM movies WHERE release_date >= '2019-01-01' AND release_date <= '2019-12-31' ALLOW FILTERING;\"\n",
    "result1 = session.execute(query1)\n",
    "df1 = pd.DataFrame(list(result1), columns=result1.column_names)\n",
    "df1\n",
    "df1 = df1.sort_values(by=['popularity'], ascending=False)\n",
    "df1.reset_index(drop=True, inplace=True)\n",
    "df1[['title', 'popularity']]\n"
   ]
  },
  {
   "cell_type": "markdown",
   "metadata": {},
   "source": [
    "Consulta para saber los géneros de las películas que se estrenaron en 1992"
   ]
  },
  {
   "cell_type": "code",
   "execution_count": null,
   "metadata": {},
   "outputs": [],
   "source": [
    "# Conectar a tu instancia de Cassandra en Docker\n",
    "cluster = Cluster(['127.0.0.1'])\n",
    "session = cluster.connect()\n",
    "\n",
    "# Utilizar tu keyspace\n",
    "session.set_keyspace('mov')\n",
    "\n",
    "# Ejecutar la primera consulta\n",
    "query2 = \"SELECT title, genres FROM movies WHERE release_date >= '1992-01-01' AND release_date <= '1992-12-31' ALLOW FILTERING;\"\n",
    "result2 = session.execute(query2)\n",
    "\n",
    "print(result2)"
   ]
  },
  {
   "cell_type": "markdown",
   "metadata": {},
   "source": [
    "Consulta para saber cuántas personas participaron en la producción de Goodfellas\n"
   ]
  },
  {
   "cell_type": "code",
   "execution_count": null,
   "metadata": {},
   "outputs": [],
   "source": [
    "query3 = \"SELECT movie_id, COUNT(*) as num_personas_cast FROM movie_cast WHERE movie_id = 769 ALLOW FILTERING;\"\n",
    "result3 = session.execute(query3)\n",
    "print(type(row))\n",
    "for row in result3:\n",
    "    print(row.num_personas_cast)\n"
   ]
  },
  {
   "cell_type": "code",
   "execution_count": null,
   "metadata": {},
   "outputs": [],
   "source": [
    "!python mongo_neo4j_transfer.py"
   ]
  },
  {
   "cell_type": "code",
   "execution_count": null,
   "metadata": {},
   "outputs": [],
   "source": [
    "from neo4j import GraphDatabase\n",
    "import pandas as pd\n",
    "\n",
    "# Conexión a la base de datos Neo4j\n",
    "uri = \"bolt://localhost:7687\"\n",
    "username = \"neo4j\"\n",
    "password = \"neoneo4j\"\n",
    "\n",
    "driver = GraphDatabase.driver(uri, auth=(username, password))\n"
   ]
  },
  {
   "cell_type": "markdown",
   "metadata": {},
   "source": [
    "Consulta 1: Conocer la cantidad de películas por género\n"
   ]
  },
  {
   "cell_type": "code",
   "execution_count": null,
   "metadata": {},
   "outputs": [],
   "source": [
    "query_1 = \"\"\"\n",
    "MATCH (g:Genre)<-[:IS_GENRE_OF]-(m:Movie)\n",
    "RETURN g.name, COUNT(m) as moviesCount\n",
    "ORDER BY moviesCount DESC\n",
    "\"\"\"\n"
   ]
  },
  {
   "cell_type": "markdown",
   "metadata": {},
   "source": [
    "Consulta 2: Encontrar películas con conexiones a múltiples géneros\n"
   ]
  },
  {
   "cell_type": "code",
   "execution_count": null,
   "metadata": {},
   "outputs": [],
   "source": [
    "query_2 = \"\"\"\n",
    "MATCH (m:Movie)-[:IS_GENRE_OF]->(g:Genre)\n",
    "WITH m, COUNT(g) as genreCount\n",
    "WHERE genreCount > 1\n",
    "RETURN m.title, genreCount\n",
    "\"\"\"\n"
   ]
  },
  {
   "cell_type": "markdown",
   "metadata": {},
   "source": [
    "Consulta 3: Encontrar la película más popular de un género en particular\n"
   ]
  },
  {
   "cell_type": "code",
   "execution_count": null,
   "metadata": {},
   "outputs": [],
   "source": [
    "query_3 = \"\"\"\n",
    "MATCH (g:Genre {name: 'Drama'})<-[:IS_GENRE_OF]-(m:Movie)\n",
    "WITH m, g ORDER BY m.popularity DESC LIMIT 1\n",
    "RETURN m.title, m.popularity, g.name as Genre\n",
    "\"\"\"\n"
   ]
  },
  {
   "cell_type": "code",
   "execution_count": null,
   "metadata": {},
   "outputs": [],
   "source": [
    "with driver.session() as session:\n",
    "    print(\"Query 1\")\n",
    "    result_1 = session.run(query_1)\n",
    "    df_1 = pd.DataFrame(result_1.data(), columns=result_1.keys())\n",
    "    display(df_1)\n",
    "    \n",
    "    print(\"Query 2\")\n",
    "    result_2 = session.run(query_2)\n",
    "    df_2 = pd.DataFrame(result_2.data(), columns=result_2.keys())\n",
    "    display(df_2)\n",
    "\n",
    "    print(\"Query 3\")\n",
    "    result_3 = session.run(query_3)\n",
    "    df_3 = pd.DataFrame(result_3.data(), columns=result_3.keys())\n",
    "    display(df_3)\n",
    "\n",
    "# Cerrar la conexión\n",
    "driver.close()"
   ]
  }
 ],
 "metadata": {
  "kernelspec": {
   "display_name": ".venv",
   "language": "python",
   "name": "python3"
  },
  "language_info": {
   "codemirror_mode": {
    "name": "ipython",
    "version": 3
   },
   "file_extension": ".py",
   "mimetype": "text/x-python",
   "name": "python",
   "nbconvert_exporter": "python",
   "pygments_lexer": "ipython3",
   "version": "3.10.7"
  }
 },
 "nbformat": 4,
 "nbformat_minor": 2
}
