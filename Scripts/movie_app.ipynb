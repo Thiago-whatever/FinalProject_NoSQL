{
 "cells": [
  {
   "cell_type": "markdown",
   "metadata": {},
   "source": [
    "Levantamos los contenedores:"
   ]
  },
  {
   "cell_type": "code",
   "execution_count": null,
   "metadata": {},
   "outputs": [],
   "source": [
    "!docker-compose up -d --build"
   ]
  },
  {
   "cell_type": "code",
   "execution_count": 58,
   "metadata": {},
   "outputs": [],
   "source": [
    "!python -m venv venv\n",
    "!source venv/bin/activate\n",
    "!pip install -r requirements.txt"
   ]
  },
  {
   "cell_type": "markdown",
   "metadata": {},
   "source": [
    "Es necesario activar este environment"
   ]
  },
  {
   "cell_type": "markdown",
   "metadata": {},
   "source": [
    "Conectamos la API a Mongo\n"
   ]
  },
  {
   "cell_type": "code",
   "execution_count": null,
   "metadata": {},
   "outputs": [],
   "source": [
    "!python api_mongo_transfer.py"
   ]
  },
  {
   "cell_type": "markdown",
   "metadata": {},
   "source": [
    "Regresa el nombre de top 10 directores con mas peliculas:"
   ]
  },
  {
   "cell_type": "code",
   "execution_count": null,
   "metadata": {},
   "outputs": [],
   "source": [
    "from pymongo import MongoClient\n",
    "\n",
    "# Conectar a tu instancia de MongoDB en Docker\n",
    "client = MongoClient('mongodb://localhost:27017/')\n",
    "\n",
    "# Seleccionar la base de datos y la colección\n",
    "db = client['moviesdb']\n",
    "credits_collection = db['credits']\n",
    "\n",
    "# Definir la consulta\n",
    "pipeline = [\n",
    "    {\"$unwind\": \"$crew\"},\n",
    "    {\"$match\": {\"crew.job\": \"Director\"}},\n",
    "    {\"$group\": {\"_id\": \"$crew.name\", \"count\": {\"$sum\": 1}}},\n",
    "    {\"$sort\": {\"count\": -1}},\n",
    "    {\"$limit\": 10}\n",
    "]\n",
    "\n",
    "# Ejecutar la consulta\n",
    "result = list(credits_collection.aggregate(pipeline))\n",
    "\n",
    "# Mostrar el resultado\n",
    "for director in result:\n",
    "    print(f\"{director['_id']}, {director['count']}\")\n",
    "\n"
   ]
  },
  {
   "cell_type": "markdown",
   "metadata": {},
   "source": [
    "Encontrar el título y año de las películas del género \"Comedy\" usando la coleccion movies (movies.json):\n"
   ]
  },
  {
   "cell_type": "code",
   "execution_count": null,
   "metadata": {},
   "outputs": [],
   "source": [
    "db = client['moviesdb']\n",
    "movies_collection = db['movies']\n",
    "\n",
    "# Definir la consulta\n",
    "pipeline = [\n",
    "    {\"$sort\": {\"budget\": -1}},\n",
    "    {\"$group\": {\"_id\": {\"$year\": \"$release_date\"}, \"title\": {\"$first\": \"$title\"}}},\n",
    "    {\"$sort\": {\"_id\": -1}}\n",
    "    \n",
    "]\n",
    "\n",
    "# Ejecutar la consulta\n",
    "result = list(movies_collection.aggregate(pipeline))\n",
    "\n",
    "# Mostrar el resultado\n",
    "for movie in result:\n",
    "    print(f\"{movie['_id']}, {movie['title']}\")\n",
    "\n"
   ]
  },
  {
   "cell_type": "markdown",
   "metadata": {},
   "source": [
    "Encontrar el título y año de las películas del género \"Comedy\""
   ]
  },
  {
   "cell_type": "code",
   "execution_count": null,
   "metadata": {},
   "outputs": [],
   "source": [
    "db = client['moviesdb']\n",
    "movies_collection = db['movies']\n",
    "\n",
    "# Definir la consulta\n",
    "query = {\"genres\": {\"$elemMatch\": {\"name\": \"Comedy\"}}}\n",
    "projection = {\"title\": 1, \"release_date\": 1}\n",
    "\n",
    "# Ejecutar la consulta\n",
    "result = list(movies_collection.find(query, projection))\n",
    "\n",
    "# Mostrar el resultado\n",
    "for movie in result:\n",
    "    print(f\"{movie['title']}, {movie['release_date'].year}\")\n",
    "\n",
    "# Cerrar la conexión\n",
    "client.close()"
   ]
  },
  {
   "cell_type": "markdown",
   "metadata": {},
   "source": [
    "Hacemos el procesamiento de la base de datos en mongo y la cargamos a Cassandra y a Neo4j"
   ]
  },
  {
   "cell_type": "code",
   "execution_count": null,
   "metadata": {},
   "outputs": [],
   "source": [
    "!python mongo_cassandra_transfer.py"
   ]
  },
  {
   "cell_type": "markdown",
   "metadata": {},
   "source": [
    "Consulta para saber información acerca de las películas que se estrenaron en el año 2019"
   ]
  },
  {
   "cell_type": "code",
   "execution_count": null,
   "metadata": {},
   "outputs": [],
   "source": [
    "from cassandra.cluster import Cluster\n",
    "import pandas as pd\n",
    "\n",
    "\n",
    "# Conectar a tu instancia de Cassandra en Docker\n",
    "cluster = Cluster(['127.0.0.1'])\n",
    "session = cluster.connect()\n",
    "\n",
    "# Utilizar tu keyspace\n",
    "session.set_keyspace('mov')\n",
    "\n",
    "# Ejecutar la primera consulta\n",
    "query1 = \"SELECT title, popularity, budget, revenue FROM movies WHERE release_date >= '2019-01-01' AND release_date <= '2019-12-31' ALLOW FILTERING;\"\n",
    "result1 = session.execute(query1)\n",
    "df1 = pd.DataFrame(list(result1), columns=result1.column_names)\n",
    "df1\n",
    "df1 = df1.sort_values(by=['popularity'], ascending=False)\n",
    "df1.reset_index(drop=True, inplace=True)\n",
    "df1[['title', 'popularity']]\n"
   ]
  },
  {
   "cell_type": "code",
   "execution_count": null,
   "metadata": {},
   "outputs": [],
   "source": [
    "# Conectar a tu instancia de Cassandra en Docker\n",
    "cluster = Cluster(['127.0.0.1'])\n",
    "session = cluster.connect()\n",
    "\n",
    "# Utilizar tu keyspace\n",
    "session.set_keyspace('mov')\n",
    "\n",
    "# Ejecutar la primera consulta\n",
    "query2 = \"SELECT title, genres FROM movies WHERE release_date >= '1992-01-01' AND release_date <= '1992-12-31' ALLOW FILTERING;\"\n",
    "result2 = session.execute(query2)\n",
    "\n",
    "print(result2)"
   ]
  },
  {
   "cell_type": "markdown",
   "metadata": {},
   "source": [
    "Consulta para saber cuántas personas participaron en la producción de Goodfellas\n"
   ]
  },
  {
   "cell_type": "code",
   "execution_count": null,
   "metadata": {},
   "outputs": [],
   "source": [
    "\n",
    "# Ejecutar la tercera consulta\n",
    "query3 = \"SELECT movie_id, COUNT(*) as num_personas_cast FROM movie_cast WHERE movie_id = 769 ALLOW FILTERING;\"\n",
    "result3 = session.execute(query3)\n",
    "print(type(row))\n",
    "for row in result3:\n",
    "    print(row.num_personas_cast)\n"
   ]
  },
  {
   "cell_type": "code",
   "execution_count": 56,
   "metadata": {},
   "outputs": [
    {
     "name": "stdout",
     "output_type": "stream",
     "text": [
      "/Users/gerardoguerrero/ProyectoFinal_NoSQL/Scripts/mongo_neo4j_transfer.py:25: SettingWithCopyWarning: \n",
      "A value is trying to be set on a copy of a slice from a DataFrame.\n",
      "Try using .loc[row_indexer,col_indexer] = value instead\n",
      "\n",
      "See the caveats in the documentation: https://pandas.pydata.org/pandas-docs/stable/user_guide/indexing.html#returning-a-view-versus-a-copy\n",
      "  df_genero['release_date'] = pd.to_datetime(df_genero['release_date'], format='%Y-%m-%d', errors='coerce')\n",
      "/Users/gerardoguerrero/ProyectoFinal_NoSQL/Scripts/mongo_neo4j_transfer.py:54: DeprecationWarning: write_transaction has been renamed to execute_write\n",
      "  session.write_transaction(load1, row['id'], row['genres'], row['title'], row['release_date'])\n",
      "Traceback (most recent call last):\n",
      "  File \"/Users/gerardoguerrero/ProyectoFinal_NoSQL/Scripts/mongo_neo4j_transfer.py\", line 54, in <module>\n",
      "    session.write_transaction(load1, row['id'], row['genres'], row['title'], row['release_date'])\n",
      "  File \"/Users/gerardoguerrero/ProyectoFinal_NoSQL/.venv/lib/python3.10/site-packages/neo4j/_meta.py\", line 219, in inner\n",
      "    return f(*args, **kwargs)\n",
      "  File \"/Users/gerardoguerrero/ProyectoFinal_NoSQL/.venv/lib/python3.10/site-packages/neo4j/_sync/work/session.py\", line 796, in write_transaction\n",
      "    return self._run_transaction(\n",
      "  File \"/Users/gerardoguerrero/ProyectoFinal_NoSQL/.venv/lib/python3.10/site-packages/neo4j/_sync/work/session.py\", line 551, in _run_transaction\n",
      "    result = transaction_function(tx, *args, **kwargs)\n",
      "  File \"/Users/gerardoguerrero/ProyectoFinal_NoSQL/Scripts/mongo_neo4j_transfer.py\", line 35, in load1\n",
      "    tx.run(\"\"\"\n",
      "  File \"/Users/gerardoguerrero/ProyectoFinal_NoSQL/.venv/lib/python3.10/site-packages/neo4j/_sync/work/transaction.py\", line 169, in run\n",
      "    result._tx_ready_run(query, parameters)\n",
      "  File \"/Users/gerardoguerrero/ProyectoFinal_NoSQL/.venv/lib/python3.10/site-packages/neo4j/_sync/work/result.py\", line 131, in _tx_ready_run\n",
      "    self._run(query, parameters, None, None, None, None, None, None)\n",
      "  File \"/Users/gerardoguerrero/ProyectoFinal_NoSQL/.venv/lib/python3.10/site-packages/neo4j/_sync/work/result.py\", line 181, in _run\n",
      "    self._attach()\n",
      "  File \"/Users/gerardoguerrero/ProyectoFinal_NoSQL/.venv/lib/python3.10/site-packages/neo4j/_sync/work/result.py\", line 298, in _attach\n",
      "    self._connection.fetch_message()\n",
      "  File \"/Users/gerardoguerrero/ProyectoFinal_NoSQL/.venv/lib/python3.10/site-packages/neo4j/_sync/io/_common.py\", line 178, in inner\n",
      "    func(*args, **kwargs)\n",
      "  File \"/Users/gerardoguerrero/ProyectoFinal_NoSQL/.venv/lib/python3.10/site-packages/neo4j/_sync/io/_bolt.py\", line 849, in fetch_message\n",
      "    res = self._process_message(tag, fields)\n",
      "  File \"/Users/gerardoguerrero/ProyectoFinal_NoSQL/.venv/lib/python3.10/site-packages/neo4j/_sync/io/_bolt5.py\", line 374, in _process_message\n",
      "    response.on_failure(summary_metadata or {})\n",
      "  File \"/Users/gerardoguerrero/ProyectoFinal_NoSQL/.venv/lib/python3.10/site-packages/neo4j/_sync/io/_common.py\", line 245, in on_failure\n",
      "    raise Neo4jError.hydrate(**metadata)\n",
      "neo4j.exceptions.ClientError: {code: Neo.ClientError.Statement.SemanticError} {message: Cannot merge the following node because of null property value for 'name': (:Genre {name: null})}\n"
     ]
    }
   ],
   "source": [
    "!python mongo_neo4j_transfer.py"
   ]
  }
 ],
 "metadata": {
  "kernelspec": {
   "display_name": ".venv",
   "language": "python",
   "name": "python3"
  },
  "language_info": {
   "codemirror_mode": {
    "name": "ipython",
    "version": 3
   },
   "file_extension": ".py",
   "mimetype": "text/x-python",
   "name": "python",
   "nbconvert_exporter": "python",
   "pygments_lexer": "ipython3",
   "version": "3.10.7"
  }
 },
 "nbformat": 4,
 "nbformat_minor": 2
}
